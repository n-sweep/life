{
 "cells": [
  {
   "cell_type": "code",
   "execution_count": 2,
   "id": "ee4ff457",
   "metadata": {},
   "outputs": [],
   "source": [
    "import numpy as np\n",
    "import scipy.stats as stats\n",
    "uniform = stats.uniform(loc=10, scale=20)  # select uniform number between [10,30] --> scale is width of uniform dist\n",
    "binomial = stats.binom(n=50, p=0.4)        # n - number flips, p is probability of one event\n",
    "poisson = stats.poisson(mu=5)              # mu --> lambda\n",
    "normal = stats.norm(loc=0.0, scale=1.0)    # loc = mean, scale = std\n",
    "exponental = stats.expon(scale = 1 / 5)    # you can think of scale here as 1 / lambda\n",
    "hypergeo = stats.hypergeom(M=14, N=5, n=7)     # Same as M, N and n in lecture notes"
   ]
  },
  {
   "cell_type": "code",
   "execution_count": 2,
   "id": "b3872b4a",
   "metadata": {},
   "outputs": [
    {
     "data": {
      "text/plain": [
       "array([19, 14, 17, 24, 17, 12, 19, 25, 24, 23, 23, 19, 21, 17, 21, 14, 22,\n",
       "       21, 23, 25, 17, 16, 15, 26, 22, 24, 18, 25, 14, 18, 16, 21, 23, 18,\n",
       "       22, 21, 28, 26, 20, 15, 22, 16, 17, 19, 23, 21, 19, 22, 19, 18])"
      ]
     },
     "execution_count": 2,
     "metadata": {},
     "output_type": "execute_result"
    }
   ],
   "source": [
    "binomial.rvs(50)"
   ]
  },
  {
   "cell_type": "code",
   "execution_count": 3,
   "id": "e43ae85b",
   "metadata": {},
   "outputs": [
    {
     "name": "stdout",
     "output_type": "stream",
     "text": [
      "uniform: [22.72209488 18.97072371 24.84173834 17.89798454 15.61470641 28.98152159\n",
      " 17.6307191  21.39127025 24.50317912 19.27577363]\n",
      "binomial: [22 23 23 27 16 18 19 23 16 19]\n",
      "poisson: [5 1 4 4 6 4 7 5 2 7]\n",
      "normal: [-0.99596399 -0.14204838 -0.28529227 -0.76204855 -0.93858141 -0.08213516\n",
      "  0.8268616   1.93779905  1.07808278  0.16037488]\n",
      "exponental: [0.02869508 0.35105607 0.27818455 0.0685314  0.05010618 0.30712163\n",
      " 0.03198181 0.00252357 0.05251718 0.22445346]\n",
      "hypergeo: [3 3 3 4 2 2 2 3 2 3]\n"
     ]
    }
   ],
   "source": [
    "print('uniform: {}'.format(uniform.rvs(10)))\n",
    "print('binomial: {}'.format(binomial.rvs(10)))\n",
    "print('poisson: {}'.format(poisson.rvs(10)))\n",
    "print('normal: {}'.format(normal.rvs(10)))\n",
    "print('exponental: {}'.format(exponental.rvs(10)))\n",
    "print('hypergeo: {}'.format(hypergeo.rvs(10)))"
   ]
  },
  {
   "cell_type": "code",
   "execution_count": 4,
   "id": "1703ca00",
   "metadata": {},
   "outputs": [],
   "source": [
    "bernoulli = stats.bernoulli(0.35)\n",
    "# arr = bernoulli.rvs(100).reshape((10,10))\n",
    "arr = np.zeros((11,11), dtype=int)\n",
    "seed = np.array([[1,1,0],[0,1,1],[0,1,0]])"
   ]
  },
  {
   "cell_type": "code",
   "execution_count": 5,
   "id": "d467d2fc",
   "metadata": {},
   "outputs": [],
   "source": [
    "x1, y1 = int((arr.shape[0]/2)-(seed.shape[0]/2)), int((arr.shape[1]/2)-(seed.shape[1]/2))\n",
    "x2, y2 = int(x1 + seed.shape[0]), int(y1 + seed.shape[1])\n",
    "\n",
    "arr[x1:x2, y1:y2] = seed"
   ]
  },
  {
   "cell_type": "code",
   "execution_count": 6,
   "id": "fc49a6c8",
   "metadata": {},
   "outputs": [],
   "source": [
    "def array_to_ascii(arr):\n",
    "    return '\\n'.join([''.join(row) for row in np.array([' ', '#'])[arr]])"
   ]
  },
  {
   "cell_type": "code",
   "execution_count": 7,
   "id": "8b3e4eb9",
   "metadata": {},
   "outputs": [],
   "source": [
    "# arr = bernoulli.rvs(100).reshape((10,10))\n",
    "where = np.argwhere(arr)\n",
    "tl = where - 1\n",
    "br = where + 1"
   ]
  },
  {
   "cell_type": "code",
   "execution_count": 8,
   "id": "3eff249c",
   "metadata": {},
   "outputs": [
    {
     "name": "stdout",
     "output_type": "stream",
     "text": [
      "[' ', ' ', ' ', ' ', ' ', ' ', ' ', ' ', ' ', ' ', ' ']\n",
      "[' ', ' ', ' ', ' ', ' ', ' ', ' ', ' ', ' ', ' ', ' ']\n",
      "[' ', ' ', ' ', ' ', ' ', ' ', ' ', ' ', ' ', ' ', ' ']\n",
      "[' ', ' ', ' ', ' ', ' ', ' ', ' ', ' ', ' ', ' ', ' ']\n",
      "[' ', ' ', ' ', ' ', '#', '!', ' ', ' ', ' ', ' ', ' ']\n",
      "[' ', ' ', ' ', ' ', ' ', '?', '+', ' ', ' ', ' ', ' ']\n",
      "[' ', ' ', ' ', ' ', ' ', '?', ' ', ' ', ' ', ' ', ' ']\n",
      "[' ', ' ', ' ', ' ', ' ', ' ', ' ', ' ', ' ', ' ', ' ']\n",
      "[' ', ' ', ' ', ' ', ' ', ' ', ' ', ' ', ' ', ' ', ' ']\n",
      "[' ', ' ', ' ', ' ', ' ', ' ', ' ', ' ', ' ', ' ', ' ']\n",
      "[' ', ' ', ' ', ' ', ' ', ' ', ' ', ' ', ' ', ' ', ' ']\n"
     ]
    }
   ],
   "source": [
    "for row in arr:\n",
    "    r = [np.random.choice(list('!@#$%&?+')) if item else ' ' for item in row]\n",
    "    print(r)"
   ]
  },
  {
   "cell_type": "code",
   "execution_count": 9,
   "id": "e1542942",
   "metadata": {},
   "outputs": [],
   "source": [
    "def generation(board):\n",
    "    new_board = board.copy()\n",
    "    for loc in np.ndindex(*board.shape):\n",
    "        loc_arr = np.array(loc)\n",
    "        tl = (loc_arr - 1).clip(min=0)\n",
    "        br = (loc_arr + 2).clip(max=arr.shape)\n",
    "        by_3 = board[tl[0]:br[0], tl[1]:br[1]]\n",
    "        origin = board[loc]\n",
    "        neighbors = by_3.sum() - origin\n",
    "\n",
    "        if not 2 <= neighbors <=3:\n",
    "            new_board[loc] =  0\n",
    "        elif neighbors == 3:\n",
    "            new_board[loc] = 1\n",
    "    \n",
    "    return new_board"
   ]
  },
  {
   "cell_type": "code",
   "execution_count": 10,
   "id": "b9174a45",
   "metadata": {},
   "outputs": [],
   "source": [
    "p = 0.50\n",
    "probs = [p] + ([(1-p)/3] * 3)\n",
    "sum(probs)\n",
    "arr = np.random.choice(np.arange(4), 9, p=probs).reshape((3,3))"
   ]
  },
  {
   "cell_type": "code",
   "execution_count": 11,
   "id": "e1f1c1f3",
   "metadata": {},
   "outputs": [],
   "source": [
    "neighbors = []\n",
    "for loc in np.ndindex((3,3)):\n",
    "    n = arr[loc]\n",
    "    if loc != (0,0) and n:\n",
    "        neighbors.append(n)\n",
    "\n",
    "a = np.array([neighbors.count(neighbor) for neighbor in set(neighbors)])\n",
    "s = set(neighbors)\n",
    "s.add(0)\n",
    "\n",
    "mutation_prob = 0.01\n",
    "probs = (a / a.sum()) * (1-mutation_prob)"
   ]
  },
  {
   "cell_type": "code",
   "execution_count": 12,
   "id": "4f364605",
   "metadata": {},
   "outputs": [
    {
     "data": {
      "text/plain": [
       "0.9999999999999999"
      ]
     },
     "execution_count": 12,
     "metadata": {},
     "output_type": "execute_result"
    }
   ],
   "source": [
    "np.append(probs,0.01).sum()"
   ]
  },
  {
   "cell_type": "code",
   "execution_count": 3,
   "id": "71c5e746",
   "metadata": {},
   "outputs": [],
   "source": [
    "classes = 9\n",
    "weight = 0.35\n",
    "# The probability a cell starts off dead\n",
    "prob_dead = [1 - weight]\n",
    "# Class probabilities for live cells\n",
    "probs_alive = [weight * (1/classes)] * classes\n",
    "shape = (20,20)\n",
    "\n",
    "board = np.random.choice(\n",
    "            classes + 1,\n",
    "            np.prod(shape),\n",
    "            p = prob_dead + probs_alive\n",
    "        ).reshape(shape)\n"
   ]
  },
  {
   "cell_type": "code",
   "execution_count": 7,
   "id": "e788425f",
   "metadata": {},
   "outputs": [
    {
     "data": {
      "text/plain": [
       "[0.65,\n",
       " 0.03888888888888888,\n",
       " 0.03888888888888888,\n",
       " 0.03888888888888888,\n",
       " 0.03888888888888888,\n",
       " 0.03888888888888888,\n",
       " 0.03888888888888888,\n",
       " 0.03888888888888888,\n",
       " 0.03888888888888888,\n",
       " 0.03888888888888888]"
      ]
     },
     "execution_count": 7,
     "metadata": {},
     "output_type": "execute_result"
    }
   ],
   "source": [
    "prob_dead + probs_alive"
   ]
  },
  {
   "cell_type": "code",
   "execution_count": 8,
   "id": "f6190921",
   "metadata": {},
   "outputs": [
    {
     "data": {
      "text/plain": [
       "array([[5, 0, 7, 8, 0, 0, 9, 1, 0, 6, 8, 7, 0, 0, 7, 2, 0, 0, 0, 0],\n",
       "       [7, 0, 4, 1, 0, 0, 7, 0, 6, 0, 0, 0, 0, 9, 0, 7, 3, 3, 0, 0],\n",
       "       [2, 5, 1, 0, 9, 0, 0, 0, 9, 0, 0, 6, 0, 0, 0, 0, 0, 9, 0, 0],\n",
       "       [0, 8, 0, 2, 9, 0, 0, 6, 2, 0, 5, 0, 0, 0, 0, 0, 0, 0, 0, 0],\n",
       "       [2, 6, 0, 0, 2, 0, 0, 0, 0, 9, 0, 2, 7, 0, 0, 7, 0, 0, 0, 0],\n",
       "       [0, 2, 0, 1, 9, 0, 0, 0, 0, 0, 0, 0, 9, 0, 0, 3, 0, 0, 0, 0],\n",
       "       [0, 0, 4, 0, 0, 0, 0, 0, 0, 0, 6, 0, 0, 0, 0, 5, 9, 0, 0, 0],\n",
       "       [1, 5, 0, 0, 5, 3, 1, 6, 0, 9, 0, 0, 0, 1, 0, 1, 0, 0, 7, 0],\n",
       "       [3, 0, 6, 0, 0, 0, 2, 0, 0, 0, 9, 0, 0, 0, 0, 9, 0, 2, 4, 7],\n",
       "       [0, 0, 0, 5, 4, 9, 0, 8, 0, 2, 0, 2, 0, 0, 0, 0, 0, 7, 9, 0],\n",
       "       [3, 0, 7, 0, 0, 0, 0, 3, 0, 0, 2, 0, 0, 8, 0, 1, 2, 2, 0, 0],\n",
       "       [0, 8, 0, 0, 2, 0, 0, 3, 0, 0, 0, 0, 7, 6, 0, 5, 0, 9, 3, 0],\n",
       "       [7, 0, 6, 0, 0, 0, 4, 4, 0, 4, 0, 0, 5, 1, 0, 0, 9, 3, 0, 6],\n",
       "       [0, 0, 5, 3, 0, 0, 1, 0, 0, 0, 0, 0, 8, 0, 0, 0, 0, 0, 5, 0],\n",
       "       [0, 1, 0, 0, 0, 0, 0, 0, 0, 2, 0, 3, 0, 0, 0, 0, 0, 0, 0, 0],\n",
       "       [0, 1, 6, 0, 0, 0, 0, 1, 8, 0, 0, 0, 0, 0, 0, 0, 0, 7, 0, 0],\n",
       "       [8, 0, 0, 0, 0, 0, 0, 4, 0, 8, 0, 5, 0, 0, 3, 0, 1, 0, 1, 0],\n",
       "       [0, 0, 0, 0, 5, 5, 0, 1, 3, 0, 0, 1, 5, 0, 3, 0, 0, 0, 7, 0],\n",
       "       [4, 0, 6, 6, 5, 0, 0, 0, 0, 0, 0, 0, 5, 7, 4, 0, 3, 7, 0, 0],\n",
       "       [6, 4, 7, 0, 0, 0, 0, 0, 0, 0, 0, 0, 9, 1, 0, 0, 0, 6, 0, 7]])"
      ]
     },
     "execution_count": 8,
     "metadata": {},
     "output_type": "execute_result"
    }
   ],
   "source": [
    "board"
   ]
  },
  {
   "cell_type": "code",
   "execution_count": 30,
   "id": "8699c8a0",
   "metadata": {},
   "outputs": [
    {
     "data": {
      "text/plain": [
       "array([3, 4, 0, 1, 2])"
      ]
     },
     "execution_count": 30,
     "metadata": {},
     "output_type": "execute_result"
    }
   ],
   "source": [
    "board = np.random.choice(\n",
    "    classes + 1,\n",
    "    np.prod(shape),\n",
    "    p=[1-weight] + [weight * (1/classes)] * classes\n",
    ").reshape(shape)\n",
    "\n",
    "u = np.unique(board)[1:]\n",
    "b = np.bincount(board.flatten())[1:]\n",
    "b.argsort()"
   ]
  },
  {
   "cell_type": "code",
   "execution_count": 31,
   "id": "9c6f53e4",
   "metadata": {},
   "outputs": [
    {
     "data": {
      "text/plain": [
       "array([ 1,  2,  3,  4,  5,  6,  7,  8,  9, 10])"
      ]
     },
     "execution_count": 31,
     "metadata": {},
     "output_type": "execute_result"
    }
   ],
   "source": [
    "np.arange(10) + 1"
   ]
  }
 ],
 "metadata": {
  "kernelspec": {
   "display_name": "Python 3",
   "language": "python",
   "name": "python3"
  },
  "language_info": {
   "codemirror_mode": {
    "name": "ipython",
    "version": 3
   },
   "file_extension": ".py",
   "mimetype": "text/x-python",
   "name": "python",
   "nbconvert_exporter": "python",
   "pygments_lexer": "ipython3",
   "version": "3.8.8"
  }
 },
 "nbformat": 4,
 "nbformat_minor": 5
}
